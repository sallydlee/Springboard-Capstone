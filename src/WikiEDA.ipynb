{
 "cells": [
  {
   "cell_type": "markdown",
   "id": "brief-serial",
   "metadata": {},
   "source": [
    "# Wikipedia Data Exploration with Spark\n",
    "##### Here we are taking a look at one day's worth of pageview data taken from the [Wikistats: Pageview complete dumps](https://dumps.wikimedia.org/other/pageview_complete/)."
   ]
  },
  {
   "cell_type": "markdown",
   "id": "quantitative-lincoln",
   "metadata": {},
   "source": [
    "### Data Ingestion: Reading pageview data from tsv file"
   ]
  },
  {
   "cell_type": "code",
   "execution_count": 82,
   "id": "expected-hours",
   "metadata": {},
   "outputs": [],
   "source": [
    "import pyspark\n",
    "import re\n",
    "import pandas as pd\n",
    "import seaborn as sns\n",
    "from datetime import datetime\n",
    "from itertools import chain\n",
    "from pyspark.sql import SparkSession, Window, SQLContext\n",
    "from pyspark.sql.functions import *\n",
    "from pyspark.sql.types import *\n",
    "\n",
    "# INITIALIZE SPARK SESSION\n",
    "spark = SparkSession.builder.appName(\"WikiEDA\").getOrCreate()\n",
    "dump_file = \"pageviews-20210101-user\"\n",
    "\n",
    "# DEFINE SCHEMA\n",
    "pageview_schema = StructType([\n",
    "    StructField(\"wikicode\", StringType()),\n",
    "    StructField(\"title\", StringType()),\n",
    "    StructField(\"page_id\", StringType()),\n",
    "    StructField(\"source\", StringType()),\n",
    "    StructField(\"daily_total\", IntegerType()),\n",
    "    StructField(\"hourly_total\", StringType())\n",
    "])"
   ]
  },
  {
   "cell_type": "code",
   "execution_count": 2,
   "id": "nutritional-evidence",
   "metadata": {},
   "outputs": [],
   "source": [
    "## User defined function to transform symbolic time column into timestamp\n",
    "## More info on hourly count data at: https://dumps.wikimedia.org/other/pageview_complete/readme.html\n",
    "AZ_time = {\n",
    "    \"A\": \"00:00:00\",\n",
    "    \"B\": \"01:00:00\",\n",
    "    \"C\": \"02:00:00\",\n",
    "    \"D\": \"03:00:00\",\n",
    "    \"E\": \"04:00:00\",\n",
    "    \"F\": \"05:00:00\",\n",
    "    \"G\": \"06:00:00\",\n",
    "    \"H\": \"07:00:00\",\n",
    "    \"I\": \"08:00:00\",\n",
    "    \"J\": \"09:00:00\",\n",
    "    \"K\": \"10:00:00\",\n",
    "    \"L\": \"11:00:00\",\n",
    "    \"M\": \"12:00:00\",\n",
    "    \"N\": \"13:00:00\",\n",
    "    \"O\": \"14:00:00\",\n",
    "    \"P\": \"15:00:00\",\n",
    "    \"Q\": \"16:00:00\",\n",
    "    \"R\": \"17:00:00\",\n",
    "    \"S\": \"18:00:00\",\n",
    "    \"T\": \"19:00:00\",\n",
    "    \"U\": \"20:00:00\",\n",
    "    \"V\": \"21:00:00\",\n",
    "    \"W\": \"22:00:00\",\n",
    "    \"X\": \"23:00:00\"\n",
    "}\n",
    "\n",
    "\n",
    "def split_hourly(string): \n",
    "    add_delim = re.sub(r'([A-Z])', r',\\1', re.sub(r'[,:=/]', '', string))\n",
    "    return list(filter(None, add_delim.split(',')))\n",
    "\n",
    "split_hourly_udf = udf(split_hourly, ArrayType(StringType()))\n"
   ]
  },
  {
   "cell_type": "code",
   "execution_count": 3,
   "id": "dimensional-fellow",
   "metadata": {},
   "outputs": [],
   "source": [
    "## Extracting view date from file name as there is no date column in the dataset\n",
    "dump_name_list = dump_file.split('-')\n",
    "view_date = datetime.strptime(dump_name_list[1], '%Y%m%d').date()"
   ]
  },
  {
   "cell_type": "code",
   "execution_count": 4,
   "id": "civilian-wallpaper",
   "metadata": {},
   "outputs": [],
   "source": [
    "# READ IN DATAFRAME FROM TSV\n",
    "dump_df = (spark\n",
    "           .read\n",
    "           .option(\"header\",\"false\")\n",
    "           .option(\"delimiter\", \" \")\n",
    "           .schema(pageview_schema)\n",
    "           .csv(dump_file))\n",
    "\n",
    "# CACHE DATAFRAMES IN MEMORY\n",
    "dump_df.persist()"
   ]
  },
  {
   "cell_type": "code",
   "execution_count": 5,
   "id": "hollywood-wealth",
   "metadata": {},
   "outputs": [
    {
     "name": "stdout",
     "output_type": "stream",
     "text": [
      "root\n",
      " |-- wikicode: string (nullable = true)\n",
      " |-- title: string (nullable = true)\n",
      " |-- page_id: string (nullable = true)\n",
      " |-- source: string (nullable = true)\n",
      " |-- daily_total: integer (nullable = true)\n",
      " |-- hourly_total: string (nullable = true)\n",
      "\n"
     ]
    }
   ],
   "source": [
    "dump_df.printSchema()"
   ]
  },
  {
   "cell_type": "code",
   "execution_count": 6,
   "id": "national-croatia",
   "metadata": {},
   "outputs": [
    {
     "name": "stdout",
     "output_type": "stream",
     "text": [
      "+------------+--------------------+-------+----------+-----------+------------------------------------------------+\n",
      "|wikicode    |title               |page_id|source    |daily_total|hourly_total                                    |\n",
      "+------------+--------------------+-------+----------+-----------+------------------------------------------------+\n",
      "|aa.wikibooks|-                   |null   |mobile-web|4          |I1O2R1                                          |\n",
      "|aa.wikibooks|File:Wikimania.svg  |null   |mobile-web|1          |I1                                              |\n",
      "|aa.wikibooks|Main_Page           |null   |desktop   |168        |A5B1C3E5F3G3H4I3J2K68L35M2N2O5P7Q1R3S2T2U4V2W2X4|\n",
      "|aa.wikibooks|Main_Page           |null   |mobile-web|9          |C1F1I2Q2T2U1                                    |\n",
      "|aa.wikibooks|Special:CiteThisPage|null   |mobile-web|1          |Q1                                              |\n",
      "+------------+--------------------+-------+----------+-----------+------------------------------------------------+\n",
      "only showing top 5 rows\n",
      "\n"
     ]
    }
   ],
   "source": [
    "dump_df.show(5, truncate=False)"
   ]
  },
  {
   "cell_type": "markdown",
   "id": "adjustable-pastor",
   "metadata": {},
   "source": [
    "### Data Exploration and Preparation by Transforming"
   ]
  },
  {
   "cell_type": "code",
   "execution_count": 7,
   "id": "under-inflation",
   "metadata": {},
   "outputs": [
    {
     "data": {
      "text/plain": [
       "36859696"
      ]
     },
     "execution_count": 7,
     "metadata": {},
     "output_type": "execute_result"
    }
   ],
   "source": [
    "## Number of rows pre-cleaning\n",
    "dump_df.count()"
   ]
  },
  {
   "cell_type": "markdown",
   "id": "victorian-rainbow",
   "metadata": {},
   "source": [
    "#### Filter out null values, default landing pages, and filter data by English language Wikipedia"
   ]
  },
  {
   "cell_type": "code",
   "execution_count": 8,
   "id": "fitted-mattress",
   "metadata": {},
   "outputs": [
    {
     "name": "stdout",
     "output_type": "stream",
     "text": [
      "+------------+--------------+--------+----------+-----------+------------------------------------------------------------------------------------------------------------------------------------------------+\n",
      "|wikicode    |title         |page_id |source    |daily_total|hourly_total                                                                                                                                    |\n",
      "+------------+--------------+--------+----------+-----------+------------------------------------------------------------------------------------------------------------------------------------------------+\n",
      "|en.wikipedia|MF_Doom       |923002  |mobile-web|764015     |A94553B73214C57827D48006E41712F34050G30431H25319I23782J22346K21292L20499M20986N22412O24242P25828Q27643R27409S24962T22864U20934V19545W18330X15829|\n",
      "|en.wikipedia|Bridgerton    |62811365|mobile-web|204812     |A7630B8001C7985D8000E7354F6559G6213H5439I4812J4912K4998L5273M5650N6303O7242P8724Q9720R10380S10985T12281U14120V15425W14034X12772                 |\n",
      "|en.wikipedia|MF_Doom       |923002  |desktop   |194559     |A23523B16960C13284D10618E9400F7958G6931H6094I5386J5106K5212L5407M5354N5524O6413P6850Q7761R7436S7244T6559U6342V6872W6558X5767                    |\n",
      "|en.wikipedia|Auld_Lang_Syne|406800  |mobile-web|182026     |A21342B10213C15521D13429E13611F28837G13592H7144I6983J3253K2630L2844M2947N3840O4470P4720Q4456R4289S3807T3319U3048V2827W2485X2419                 |\n",
      "|en.wikipedia|Cyndi_Lauper  |85226   |mobile-web|170329     |A288B508C1016D105759E12941F8142G17535H2076I1235J451K346L675M845N1544O2281P2400Q2371R1935S1770T1483U1312V1186W1093X1137                          |\n",
      "+------------+--------------+--------+----------+-----------+------------------------------------------------------------------------------------------------------------------------------------------------+\n",
      "only showing top 5 rows\n",
      "\n"
     ]
    }
   ],
   "source": [
    "dump_df = dump_df.filter((dump_df.page_id != 'null') & (dump_df.wikicode == 'en.wikipedia') & (dump_df.title != 'Main_Page'))\n",
    "dump_df = dump_df.sort(dump_df.daily_total.desc())\n",
    "dump_df.show(5, truncate=False)"
   ]
  },
  {
   "cell_type": "code",
   "execution_count": 9,
   "id": "accurate-bacteria",
   "metadata": {},
   "outputs": [
    {
     "name": "stdout",
     "output_type": "stream",
     "text": [
      "+------------+--------------+-------+-------+-----------+------------+\n",
      "|    wikicode|         title|page_id| source|daily_total|hourly_total|\n",
      "+------------+--------------+-------+-------+-----------+------------+\n",
      "|en.wikipedia|Felicity_Lemon|   1000|desktop|          4|        G2R2|\n",
      "+------------+--------------+-------+-------+-----------+------------+\n",
      "only showing top 1 row\n",
      "\n"
     ]
    }
   ],
   "source": [
    "## Checking if page_id contains leading zeroes\n",
    "dump_df.sort(dump_df.page_id).show(1)"
   ]
  },
  {
   "cell_type": "code",
   "execution_count": 10,
   "id": "supported-spectacular",
   "metadata": {},
   "outputs": [
    {
     "data": {
      "text/plain": [
       "9136437"
      ]
     },
     "execution_count": 10,
     "metadata": {},
     "output_type": "execute_result"
    }
   ],
   "source": [
    "## Number of rows after focusing on English Wikipedia and pages with IDs\n",
    "dump_df.count()"
   ]
  },
  {
   "cell_type": "code",
   "execution_count": 11,
   "id": "copyrighted-classification",
   "metadata": {},
   "outputs": [
    {
     "name": "stdout",
     "output_type": "stream",
     "text": [
      "+----------+--------------+--------+----------+-----------+------------------------------------------------------------------------------------------------------------------------------------------------+\n",
      "|views_date|title         |page_id |source    |daily_total|hourly_total                                                                                                                                    |\n",
      "+----------+--------------+--------+----------+-----------+------------------------------------------------------------------------------------------------------------------------------------------------+\n",
      "|2021-01-01|MF Doom       |923002  |mobile-web|764015     |A94553B73214C57827D48006E41712F34050G30431H25319I23782J22346K21292L20499M20986N22412O24242P25828Q27643R27409S24962T22864U20934V19545W18330X15829|\n",
      "|2021-01-01|Bridgerton    |62811365|mobile-web|204812     |A7630B8001C7985D8000E7354F6559G6213H5439I4812J4912K4998L5273M5650N6303O7242P8724Q9720R10380S10985T12281U14120V15425W14034X12772                 |\n",
      "|2021-01-01|MF Doom       |923002  |desktop   |194559     |A23523B16960C13284D10618E9400F7958G6931H6094I5386J5106K5212L5407M5354N5524O6413P6850Q7761R7436S7244T6559U6342V6872W6558X5767                    |\n",
      "|2021-01-01|Auld Lang Syne|406800  |mobile-web|182026     |A21342B10213C15521D13429E13611F28837G13592H7144I6983J3253K2630L2844M2947N3840O4470P4720Q4456R4289S3807T3319U3048V2827W2485X2419                 |\n",
      "|2021-01-01|Cyndi Lauper  |85226   |mobile-web|170329     |A288B508C1016D105759E12941F8142G17535H2076I1235J451K346L675M845N1544O2281P2400Q2371R1935S1770T1483U1312V1186W1093X1137                          |\n",
      "+----------+--------------+--------+----------+-----------+------------------------------------------------------------------------------------------------------------------------------------------------+\n",
      "only showing top 5 rows\n",
      "\n"
     ]
    }
   ],
   "source": [
    "## Refer to https://en.wikipedia.org/wiki/Category:Articles_with_underscores_in_the_title \n",
    "## for the 83 articles that have an underscore in the title.\n",
    "dump_df = dump_df.drop(\"wikicode\")\n",
    "\n",
    "## Adding date column\n",
    "dump_df = (dump_df\n",
    "           .withColumn(\"title\", regexp_replace(\"title\", \"_\", \" \"))\n",
    "           .withColumn(\"page_id\", dump_df.page_id.cast(IntegerType()))\n",
    "           .withColumn(\"views_date\", lit(view_date)).select(\"views_date\", *dump_df.columns)           \n",
    "          )\n",
    "\n",
    "dump_df.show(5, truncate=False)"
   ]
  },
  {
   "cell_type": "code",
   "execution_count": 12,
   "id": "organizational-respect",
   "metadata": {},
   "outputs": [
    {
     "name": "stdout",
     "output_type": "stream",
     "text": [
      "+----------+--------------+\n",
      "|    source|count(page_id)|\n",
      "+----------+--------------+\n",
      "|   desktop|       3818417|\n",
      "|mobile-app|            37|\n",
      "|mobile-web|       3527083|\n",
      "+----------+--------------+\n",
      "\n"
     ]
    }
   ],
   "source": [
    "## Checking distribution of pageviews amongst sources\n",
    "source_types = dump_df.groupBy(\"source\").agg(countDistinct(\"page_id\"))\n",
    "source_types.show()"
   ]
  },
  {
   "cell_type": "code",
   "execution_count": 13,
   "id": "southern-series",
   "metadata": {},
   "outputs": [
    {
     "name": "stdout",
     "output_type": "stream",
     "text": [
      "+--------------------+-------+\n",
      "|               title|page_id|\n",
      "+--------------------+-------+\n",
      "|   Political anarchy|     12|\n",
      "|List of anarchist...|     12|\n",
      "|                   -|     12|\n",
      "|           Anarchist|     12|\n",
      "|   Anarchist society|     12|\n",
      "|Criticism of anar...|     12|\n",
      "|           Anarchism|     12|\n",
      "|Criticisms of ana...|     12|\n",
      "|Revolutionary ana...|     12|\n",
      "|  Anarchism (theory)|     12|\n",
      "+--------------------+-------+\n",
      "only showing top 10 rows\n",
      "\n"
     ]
    },
    {
     "data": {
      "text/plain": [
       "6036877"
      ]
     },
     "execution_count": 13,
     "metadata": {},
     "output_type": "execute_result"
    }
   ],
   "source": [
    "page_df = dump_df.groupBy(\"title\", \"page_id\").count().sort(\"page_id\")\n",
    "page_df = page_df.drop(\"count\")\n",
    "page_df.show(10)"
   ]
  },
  {
   "cell_type": "markdown",
   "id": "standard-tunnel",
   "metadata": {},
   "source": [
    "#### Create dataframe for daily pageviews by pivoting by source and aggregating by title, page_id, and date"
   ]
  },
  {
   "cell_type": "code",
   "execution_count": 14,
   "id": "prospective-times",
   "metadata": {},
   "outputs": [
    {
     "name": "stdout",
     "output_type": "stream",
     "text": [
      "+--------------------+-------+----------+-------+----------+----------+\n",
      "|               title|page_id|views_date|desktop|mobile-app|mobile-web|\n",
      "+--------------------+-------+----------+-------+----------+----------+\n",
      "|  Anarchism (theory)|     12|2021-01-01|      1|      null|      null|\n",
      "|                   -|     12|2021-01-01|      4|      null|      null|\n",
      "|List of anarchist...|     12|2021-01-01|   null|      null|         1|\n",
      "|Criticisms of ana...|     12|2021-01-01|      1|      null|      null|\n",
      "|Revolutionary ana...|     12|2021-01-01|      1|      null|      null|\n",
      "|           Anarchist|     12|2021-01-01|     79|      null|       165|\n",
      "|Criticism of anar...|     12|2021-01-01|      1|      null|         3|\n",
      "|      Anti-anarchism|     12|2021-01-01|      1|      null|      null|\n",
      "|   Anarchist society|     12|2021-01-01|   null|      null|         1|\n",
      "|   Political anarchy|     12|2021-01-01|   null|      null|         6|\n",
      "+--------------------+-------+----------+-------+----------+----------+\n",
      "only showing top 10 rows\n",
      "\n"
     ]
    }
   ],
   "source": [
    "daily_df = (dump_df\n",
    "            .groupBy(\"title\",\"page_id\",\"views_date\")\n",
    "            .pivot(\"source\")\n",
    "            .max(\"daily_total\")\n",
    "            .sort(\"page_id\")\n",
    "           )\n",
    "\n",
    "daily_df.show(10)"
   ]
  },
  {
   "cell_type": "code",
   "execution_count": 15,
   "id": "nominated-reference",
   "metadata": {},
   "outputs": [
    {
     "name": "stdout",
     "output_type": "stream",
     "text": [
      "root\n",
      " |-- title: string (nullable = true)\n",
      " |-- page_id: integer (nullable = true)\n",
      " |-- views_date: date (nullable = false)\n",
      " |-- desktop: integer (nullable = true)\n",
      " |-- mobile-app: integer (nullable = true)\n",
      " |-- mobile-web: integer (nullable = true)\n",
      "\n"
     ]
    }
   ],
   "source": [
    "daily_df.printSchema()"
   ]
  },
  {
   "cell_type": "markdown",
   "id": "clean-window",
   "metadata": {},
   "source": [
    "#### Create hourly dataframe by exploding and applying \"split_hourly\" UDF"
   ]
  },
  {
   "cell_type": "code",
   "execution_count": 16,
   "id": "orange-container",
   "metadata": {},
   "outputs": [
    {
     "name": "stdout",
     "output_type": "stream",
     "text": [
      "+-------+-------+----------+------------+-------------------+\n",
      "|  title|page_id|    source|hourly_total|     views_datetime|\n",
      "+-------+-------+----------+------------+-------------------+\n",
      "|MF Doom| 923002|mobile-web|       94553|2021-01-01 00:00:00|\n",
      "|MF Doom| 923002|mobile-web|       73214|2021-01-01 01:00:00|\n",
      "+-------+-------+----------+------------+-------------------+\n",
      "only showing top 2 rows\n",
      "\n"
     ]
    }
   ],
   "source": [
    "hourly_df = (dump_df\n",
    "             .drop(\"daily_total\")\n",
    "             .withColumn(\"hourly_total\", split_hourly_udf(\"hourly_total\"))\n",
    "             .withColumn(\"hourly_total\", explode(\"hourly_total\"))\n",
    "            )\n",
    "\n",
    "mapping = create_map([lit(x) for x in chain(*AZ_time.items())])\n",
    "\n",
    "hourly_df = (hourly_df\n",
    "             .withColumn(\"time_indicator\", regexp_extract(\"hourly_total\", pattern=\"[A-Z]\", idx=0))\n",
    "             .withColumn(\"hourly_total\", regexp_replace(\"hourly_total\", \"[A-Z]\", \"\"))\n",
    "            )\n",
    "\n",
    "hourly_df = hourly_df.withColumn(\"time_indicator\", mapping[hourly_df['time_indicator']])\n",
    "hourly_df = (hourly_df\n",
    "             .withColumn('views_datetime', to_timestamp(concat(col('views_date'), lit(' '), col('time_indicator'))))\n",
    "             .withColumn(\"hourly_total\", hourly_df.hourly_total.cast(IntegerType()))\n",
    "             .drop(\"views_date\")\n",
    "             .drop(\"time_indicator\")\n",
    "            )\n",
    "\n",
    "hourly_df.show(2)"
   ]
  },
  {
   "cell_type": "code",
   "execution_count": 17,
   "id": "conceptual-birmingham",
   "metadata": {},
   "outputs": [
    {
     "name": "stdout",
     "output_type": "stream",
     "text": [
      "+--------------------+-------+-------------------+-------+----------+----------+\n",
      "|               title|page_id|     views_datetime|desktop|mobile-app|mobile-web|\n",
      "+--------------------+-------+-------------------+-------+----------+----------+\n",
      "|           Anarchist|     12|2021-01-01 00:00:00|      2|      null|         9|\n",
      "|Criticism of anar...|     12|2021-01-01 00:00:00|   null|      null|         2|\n",
      "|          Anarchists|     12|2021-01-01 00:00:00|   null|      null|         1|\n",
      "|           Anarchism|     12|2021-01-01 00:00:00|     33|      null|        81|\n",
      "|   Political anarchy|     12|2021-01-01 00:00:00|   null|      null|         1|\n",
      "|           Anarchism|     12|2021-01-01 01:00:00|     38|      null|       104|\n",
      "|           Anarchist|     12|2021-01-01 01:00:00|      3|      null|         7|\n",
      "|          Anarchists|     12|2021-01-01 01:00:00|      1|      null|         4|\n",
      "|   Political anarchy|     12|2021-01-01 01:00:00|   null|      null|         1|\n",
      "|           Anarchist|     12|2021-01-01 02:00:00|      2|      null|        11|\n",
      "|          Anarchists|     12|2021-01-01 02:00:00|   null|      null|         1|\n",
      "|           Anarchism|     12|2021-01-01 02:00:00|    120|      null|      1480|\n",
      "|      Anti-anarchism|     12|2021-01-01 03:00:00|      1|      null|      null|\n",
      "|           Anarchist|     12|2021-01-01 03:00:00|      1|      null|         7|\n",
      "|           Anarchism|     12|2021-01-01 03:00:00|     47|      null|       340|\n",
      "+--------------------+-------+-------------------+-------+----------+----------+\n",
      "only showing top 15 rows\n",
      "\n"
     ]
    }
   ],
   "source": [
    "hourly_df = (hourly_df\n",
    "            .groupBy(\"title\",\"page_id\",\"views_datetime\")\n",
    "            .pivot(\"source\")\n",
    "            .max(\"hourly_total\")\n",
    "            .sort(\"page_id\", \"views_datetime\")\n",
    "           )\n",
    "\n",
    "hourly_df.show(15)"
   ]
  },
  {
   "cell_type": "code",
   "execution_count": 96,
   "id": "running-steal",
   "metadata": {},
   "outputs": [],
   "source": [
    "## Creating dateframe for sum aggregation by title for visualization\n",
    "pop_df = dump_df.groupBy(\"page_id\", \"title\").agg(sum(\"daily_total\").alias(\"daily_total\"))\n",
    "\n",
    "w = Window.partitionBy(\"page_id\").orderBy(col(\"daily_total\").desc())\n",
    "\n",
    "pop_df = (pop_df\n",
    "          .withColumn(\"row_n\", row_number().over(w))\n",
    "          .where(col(\"row_n\") == 1)\n",
    "          .select(\"title\", \"daily_total\")\n",
    "          .sort(col(\"daily_total\").desc())\n",
    "          .limit(10)\n",
    "         )"
   ]
  },
  {
   "cell_type": "markdown",
   "id": "herbal-building",
   "metadata": {},
   "source": [
    "#### Plot of pageviews per article in descending order on New Year's Day 2021"
   ]
  },
  {
   "cell_type": "code",
   "execution_count": 100,
   "id": "ahead-safety",
   "metadata": {},
   "outputs": [
    {
     "data": {
      "image/png": "[encoded data removed]",
      "text/plain": [
       "<Figure size 432x288 with 1 Axes>"
      ]
     },
     "metadata": {
      "needs_background": "light"
     },
     "output_type": "display_data"
    }
   ],
   "source": [
    "pd_df = pop_df.toPandas()\n",
    "plot = sns.barplot(x = \"daily_total\", y = \"title\", data = pd_df, palette=\"flare\")\n",
    "plot.ticklabel_format(style=\"plain\", axis=\"x\")"
   ]
  }
 ],
 "metadata": {
  "kernelspec": {
   "display_name": "Python 3",
   "language": "python",
   "name": "python3"
  },
  "language_info": {
   "codemirror_mode": {
    "name": "ipython",
    "version": 3
   },
   "file_extension": ".py",
   "mimetype": "text/x-python",
   "name": "python",
   "nbconvert_exporter": "python",
   "pygments_lexer": "ipython3",
   "version": "3.7.3"
  }
 },
 "nbformat": 4,
 "nbformat_minor": 5
}
